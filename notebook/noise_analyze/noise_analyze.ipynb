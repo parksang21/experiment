{
 "cells": [
  {
   "cell_type": "code",
   "execution_count": 3,
   "source": [
    "import torch\n",
    "import torch.nn as nn\n",
    "\n",
    "import pickle\n",
    "import torch\n",
    "import torch.nn as nn\n",
    "from torch.utils.data import DataLoader\n",
    "import sys\n",
    "sys.path.append('/workspace/experiment')\n",
    "from data.cifar10 import SplitCifar10, train_transform, val_transform\n",
    "from data.capsule_split import get_splits\n",
    "\n",
    "import os\n",
    "\n",
    "import matplotlib.pyplot as plt\n"
   ],
   "outputs": [],
   "metadata": {}
  },
  {
   "cell_type": "code",
   "execution_count": 4,
   "source": [
    "split = get_splits('cifar10', 0)\n",
    "known_data = SplitCifar10('/datasets', train=False, transform=val_transform, split=split['known_classes'])\n",
    "open_data = SplitCifar10('/datasets', train=False, transform=val_transform, split=split['unknown_classes'])\n",
    "known_loader = DataLoader(known_data, batch_size=32, shuffle=False, num_workers=4)\n",
    "open_loader = DataLoader(open_data, batch_size=32, shuffle=False, num_workers=4)\n",
    "test_input, test_target = next(iter(known_loader))"
   ],
   "outputs": [],
   "metadata": {}
  },
  {
   "cell_type": "code",
   "execution_count": 8,
   "source": [
    "path = './noise_analyze/split0.ckpt'"
   ],
   "outputs": [],
   "metadata": {}
  },
  {
   "cell_type": "code",
   "execution_count": 9,
   "source": [
    "state_dict= torch.load(path)"
   ],
   "outputs": [],
   "metadata": {}
  },
  {
   "cell_type": "code",
   "execution_count": 13,
   "source": [
    "class NoiseEncoder(nn.Module):\n",
    "    def __init__(self, \n",
    "                 channel_in:  int, \n",
    "                 channel_out: int, \n",
    "                 kernel_size: int, \n",
    "                 stride:      int, \n",
    "                 padding:     int, \n",
    "                 bias:        bool=False, \n",
    "                 num_classes: int=6,\n",
    "                 alpha: float=1.0):\n",
    "        \n",
    "        super(self.__class__, self).__init__()\n",
    "        self.conv = nn.Conv2d(channel_in, channel_out, kernel_size, stride, padding, bias=bias)\n",
    "        self.bn = nn.BatchNorm2d(channel_out)\n",
    "        self.bn_noise = nn.BatchNorm2d(channel_out)\n",
    "        self.activation = nn.LeakyReLU(0.2)\n",
    "        self.num_classes = num_classes\n",
    "        self.register_buffer('buffer', None)\n",
    "        self.alpha = alpha\n",
    "        \n",
    "    def forward(self, x):\n",
    "        x = self.conv(x)\n",
    "        x = self.bn(x)\n",
    "        x = self.activation(x)\n",
    "        return x\n",
    "    \n",
    "    def forward_clean(self, x, class_mask):\n",
    "        x = self.conv(x)\n",
    "        self.cal_class_per_std(x, class_mask)\n",
    "        x = self.bn(x)\n",
    "        x = self.activation(x)\n",
    "        return x\n",
    "        \n",
    "    def forward_noise(self, x, newY):\n",
    "        x = self.conv(x)\n",
    "        x = x + self.alpha * torch.normal(mean=0, std=self.buffer[newY]).type_as(x)\n",
    "        x = self.bn_noise(x)\n",
    "        x = self.activation(x)\n",
    "        return x\n",
    "    \n",
    "    def cal_class_per_std(self, x, idxs):\n",
    "        std = []\n",
    "        for i in range(self.num_classes):\n",
    "            x_ = x[idxs[i]].detach().clone()\n",
    "            \n",
    "            std.append(x_.std(0))\n",
    "        self.buffer = torch.stack(std)\n",
    "\n",
    "class Noiseclassifier32(nn.Module):\n",
    "    def __init__(self, \n",
    "                 num_classes: int=6,\n",
    "                 alpha: int=1.0,\n",
    "                 **kwargs):\n",
    "        super(self.__class__, self).__init__()\n",
    "        self.num_classes = num_classes\n",
    "        \n",
    "        self.conv1 = NoiseEncoder(3,     64,    3, 1, 1, bias=False, num_classes=num_classes)\n",
    "        self.conv2 = NoiseEncoder(64,    64,    3, 1, 1, bias=False, num_classes=num_classes)\n",
    "        self.conv3 = NoiseEncoder(64,   128,    3, 2, 1, bias=False, num_classes=num_classes)\n",
    "        \n",
    "        self.conv4 = NoiseEncoder(128,  128,    3, 1, 1, bias=False, num_classes=num_classes)\n",
    "        self.conv5 = NoiseEncoder(128,  128,    3, 1, 1, bias=False, num_classes=num_classes)\n",
    "        self.conv6 = NoiseEncoder(128,  128,    3, 2, 1, bias=False, num_classes=num_classes)\n",
    "        \n",
    "        self.conv7 = NoiseEncoder(128,  128,    3, 1, 1, bias=False, num_classes=num_classes)\n",
    "        self.conv8 = NoiseEncoder(128,  128,    3, 1, 1, bias=False, num_classes=num_classes)\n",
    "        self.conv9 = NoiseEncoder(128,  128,    3, 2, 1, bias=False, num_classes=num_classes)\n",
    "        \n",
    "        self.fc = nn.Linear(128, num_classes)\n",
    "        self.dr1 = nn.Dropout2d(0.2)\n",
    "        self.dr2 = nn.Dropout2d(0.2)\n",
    "        self.dr3 = nn.Dropout2d(0.2)\n",
    "        self.avgpool = nn.AdaptiveAvgPool2d((1, 1))\n",
    "        \n",
    "        self.apply(self.weights_init)\n",
    "        \n",
    "        \n",
    "    def weights_init(self, m):\n",
    "        classname = m.__class__.__name__\n",
    "        if classname.find('Conv') != -1:\n",
    "            m.weight.data.normal_(0.0, 0.05)\n",
    "        elif classname.find('BatchNorm') != -1:\n",
    "            m.weight.data.normal_(1.0, 0.02)\n",
    "            m.bias.data.fill_(0)\n",
    "\n",
    "    def forward(self, x):\n",
    "        batch_size = len(x)\n",
    "        x = self.dr1(x)\n",
    "        x = self.conv1(x)\n",
    "        \n",
    "        x = self.conv2(x)\n",
    "        x = self.conv3(x)\n",
    "        \n",
    "        x = self.dr2(x)\n",
    "        x = self.conv4(x)\n",
    "        x = self.conv5(x)\n",
    "        x = self.conv6(x)\n",
    "        \n",
    "        x = self.dr3(x)\n",
    "        x = self.conv7(x)\n",
    "        x = self.conv8(x)\n",
    "        x = self.conv9(x)\n",
    "        \n",
    "        x = self.avgpool(x)\n",
    "        x = x.view(x.shape[0], -1)\n",
    "        \n",
    "        logit = self.fc(x)\n",
    "        \n",
    "        return logit\n",
    "    \n",
    "    def forward_clean(self, x, y):\n",
    "        batch_size = len(x)\n",
    "        class_mask = y.unsqueeze(0) == torch.arange(self.num_classes).type_as(y).unsqueeze(1)\n",
    "        x = self.dr1(x)\n",
    "        x = self.conv1.forward_clean(x, class_mask)\n",
    "        x = self.conv2.forward_clean(x, class_mask)\n",
    "        x = self.conv3.forward_clean(x, class_mask)\n",
    "        \n",
    "        x = self.dr2(x)\n",
    "        x = self.conv4.forward_clean(x, class_mask)\n",
    "        x = self.conv5.forward_clean(x, class_mask)\n",
    "        x = self.conv6.forward_clean(x, class_mask)\n",
    "        \n",
    "        x = self.dr3(x)\n",
    "        x = self.conv7.forward_clean(x, class_mask)\n",
    "        x = self.conv8.forward_clean(x, class_mask)\n",
    "        x = self.conv9.forward_clean(x, class_mask)\n",
    "        \n",
    "        x = self.avgpool(x)\n",
    "        x = x.view(x.shape[0], -1)\n",
    "        \n",
    "        logit = self.fc(x)\n",
    "        \n",
    "        return {\n",
    "            \"logit\": logit,\n",
    "            \"emb\": x\n",
    "        }\n",
    "    \n",
    "    def forward_noise(self, x, y, noise_layer=[]):\n",
    "        batch_size = len(x)\n",
    "        newY = self.cal_index(y)\n",
    "        \n",
    "        x = self.dr1(x)\n",
    "        x = self.conv1.forward_noise(x, newY)\n",
    "        x = self.conv2.forward_noise(x, newY)\n",
    "        x = self.conv3.forward_noise(x, newY)\n",
    "        \n",
    "        x = self.dr2(x)\n",
    "        x = self.conv4.forward_noise(x, newY)\n",
    "        x = self.conv5.forward_noise(x, newY)\n",
    "        x = self.conv6.forward_noise(x, newY)\n",
    "        \n",
    "        x = self.dr3(x)\n",
    "        x = self.conv7.forward_noise(x, newY)\n",
    "        x = self.conv8.forward_noise(x, newY)\n",
    "        x = self.conv9.forward_noise(x, newY)\n",
    "        \n",
    "        x = self.avgpool(x)\n",
    "        x = x.view(x.shape[0], -1)\n",
    "        \n",
    "        logit = self.fc(x)\n",
    "        \n",
    "        return {\n",
    "            'logit': logit,\n",
    "            'newY': newY,\n",
    "            'emb': x\n",
    "        }\n",
    "        \n",
    "    def cal_index(self, y):\n",
    "        batch_size = y.size(0)\n",
    "        new_index = torch.randperm(batch_size).type_as(y)\n",
    "        newY = y[new_index]\n",
    "        mask = (newY == y)\n",
    "        while mask.any().item():\n",
    "            newY[mask] = torch.randint(0, self.num_classes, (torch.sum(mask),)).type_as(y)\n",
    "            mask = (newY == y)\n",
    "        return newY"
   ],
   "outputs": [],
   "metadata": {}
  },
  {
   "cell_type": "code",
   "execution_count": 14,
   "source": [
    "model = Noiseclassifier32(num_classes=6, alpha=0.1)\n",
    "model_state_dict = model.state_dict()\n",
    "for name, param in state_dict['state_dict'].items():\n",
    "    n = name.replace('model.', '')\n",
    "    if n in model_state_dict.keys():\n",
    "        model_state_dict[n].copy_(param)"
   ],
   "outputs": [],
   "metadata": {}
  },
  {
   "cell_type": "code",
   "execution_count": 15,
   "source": [
    "out = model(test_input)"
   ],
   "outputs": [],
   "metadata": {}
  },
  {
   "cell_type": "code",
   "execution_count": 19,
   "source": [],
   "outputs": [
    {
     "output_type": "execute_result",
     "data": {
      "text/plain": [
       "tensor([[9.9380e-01, 1.0275e-03, 4.9737e-03, 4.5723e-05, 5.0575e-05, 1.0652e-04],\n",
       "        [9.1439e-08, 9.9995e-01, 7.9514e-08, 3.6096e-09, 3.6979e-08, 5.2403e-05],\n",
       "        [5.1370e-07, 1.0000e+00, 4.4065e-10, 8.4260e-09, 3.4184e-10, 1.9184e-06],\n",
       "        [9.9990e-01, 2.4026e-07, 9.9161e-07, 1.6055e-06, 9.6988e-05, 5.3044e-08],\n",
       "        [1.1869e-07, 3.8635e-04, 1.3713e-09, 1.7372e-11, 1.0366e-10, 9.9961e-01],\n",
       "        [4.0513e-09, 3.6991e-08, 1.7865e-06, 1.8733e-03, 9.9812e-01, 1.5542e-10],\n",
       "        [1.1949e-05, 1.5779e-04, 7.1154e-08, 1.6280e-08, 1.2706e-08, 9.9983e-01],\n",
       "        [4.6475e-06, 5.1561e-05, 2.6979e-04, 1.3843e-05, 9.9965e-01, 9.2800e-06],\n",
       "        [2.6272e-01, 5.1763e-07, 7.3727e-01, 1.9929e-07, 7.6255e-06, 4.3029e-06],\n",
       "        [9.1914e-05, 2.2915e-08, 1.0490e-03, 9.9886e-01, 1.6760e-06, 3.6650e-08],\n",
       "        [1.0511e-08, 3.3112e-06, 1.2846e-10, 6.1905e-13, 2.5557e-11, 1.0000e+00],\n",
       "        [1.0494e-02, 1.1434e-03, 1.9908e-01, 3.4061e-01, 4.4468e-01, 3.9891e-03],\n",
       "        [5.9301e-04, 2.3000e-06, 7.2421e-01, 1.1498e-02, 2.6369e-01, 8.0528e-06],\n",
       "        [3.0687e-03, 4.7529e-05, 1.1030e-01, 8.7145e-01, 1.5091e-02, 3.6941e-05],\n",
       "        [9.9852e-01, 1.6339e-06, 5.3035e-05, 1.3975e-03, 2.2528e-05, 3.0089e-06],\n",
       "        [1.0314e-04, 6.5009e-03, 2.7545e-05, 4.0819e-06, 3.9685e-08, 9.9336e-01],\n",
       "        [1.5296e-13, 1.5068e-13, 4.7403e-07, 3.6520e-09, 1.0000e+00, 1.5337e-12],\n",
       "        [9.3849e-07, 1.5783e-08, 3.0529e-02, 9.6938e-01, 9.4035e-05, 5.3544e-08],\n",
       "        [1.1061e-03, 8.0511e-04, 3.3159e-01, 8.8979e-02, 5.7697e-01, 5.4707e-04],\n",
       "        [5.9049e-06, 7.0409e-08, 3.7895e-10, 1.1166e-10, 5.8707e-10, 9.9999e-01],\n",
       "        [4.8580e-05, 1.0992e-02, 9.5698e-01, 2.8158e-03, 2.9082e-02, 7.8704e-05],\n",
       "        [7.0751e-07, 5.6206e-08, 3.9860e-05, 9.9920e-01, 7.6278e-04, 2.4221e-08],\n",
       "        [3.9955e-08, 9.9883e-01, 5.0829e-12, 6.9428e-10, 2.1033e-09, 1.1678e-03],\n",
       "        [1.2087e-01, 2.2643e-01, 1.5225e-01, 1.6236e-01, 1.9096e-01, 1.4713e-01],\n",
       "        [1.9302e-08, 1.1520e-04, 1.1112e-05, 3.6841e-03, 9.9619e-01, 9.5378e-07],\n",
       "        [4.4468e-06, 3.4540e-07, 1.8663e-04, 9.9980e-01, 9.9490e-06, 4.0543e-10],\n",
       "        [6.7088e-03, 1.7277e-03, 3.5423e-01, 1.7491e-01, 4.6204e-01, 3.8570e-04],\n",
       "        [9.9588e-01, 2.7995e-03, 1.2354e-04, 1.7455e-07, 9.3673e-08, 1.2013e-03],\n",
       "        [2.4006e-07, 3.3484e-07, 1.6751e-12, 1.2311e-13, 6.7281e-13, 1.0000e+00],\n",
       "        [1.6911e-02, 3.1983e-01, 2.9982e-01, 1.1561e-01, 3.1949e-03, 2.4463e-01],\n",
       "        [1.3466e-03, 8.4099e-02, 2.8050e-03, 7.5882e-07, 2.6224e-06, 9.1175e-01],\n",
       "        [4.5220e-02, 3.9082e-04, 8.2709e-01, 7.2009e-02, 5.4224e-02, 1.0693e-03]],\n",
       "       grad_fn=<SoftmaxBackward>)"
      ]
     },
     "metadata": {},
     "execution_count": 19
    }
   ],
   "metadata": {}
  },
  {
   "cell_type": "code",
   "execution_count": 21,
   "source": [
    "oInput, oTarget = next(iter(open_loader))"
   ],
   "outputs": [],
   "metadata": {}
  },
  {
   "cell_type": "code",
   "execution_count": 22,
   "source": [
    "oOut = model(oInput)"
   ],
   "outputs": [],
   "metadata": {}
  },
  {
   "cell_type": "code",
   "execution_count": 28,
   "source": [
    "plt.imshow(oOut.detach().numpy())"
   ],
   "outputs": [
    {
     "output_type": "execute_result",
     "data": {
      "text/plain": [
       "<matplotlib.image.AxesImage at 0x7fa76421f190>"
      ]
     },
     "metadata": {},
     "execution_count": 28
    },
    {
     "output_type": "display_data",
     "data": {
      "image/png": "[encoded data removed]",
      "text/plain": [
       "<Figure size 432x288 with 1 Axes>"
      ]
     },
     "metadata": {
      "needs_background": "light"
     }
    }
   ],
   "metadata": {}
  },
  {
   "cell_type": "code",
   "execution_count": 29,
   "source": [
    "plt.imshow(out.detach().numpy())"
   ],
   "outputs": [
    {
     "output_type": "execute_result",
     "data": {
      "text/plain": [
       "<matplotlib.image.AxesImage at 0x7fa7641ea850>"
      ]
     },
     "metadata": {},
     "execution_count": 29
    },
    {
     "output_type": "display_data",
     "data": {
      "image/png": "[encoded data removed]",
      "text/plain": [
       "<Figure size 432x288 with 1 Axes>"
      ]
     },
     "metadata": {
      "needs_background": "light"
     }
    }
   ],
   "metadata": {}
  },
  {
   "cell_type": "code",
   "execution_count": 31,
   "source": [
    "clean_out = model.forward_clean(test_input, test_target)"
   ],
   "outputs": [],
   "metadata": {}
  },
  {
   "cell_type": "code",
   "execution_count": 36,
   "source": [
    "plt.imshow(clean_out['logit'].softmax(-1).detach().numpy())"
   ],
   "outputs": [
    {
     "output_type": "execute_result",
     "data": {
      "text/plain": [
       "<matplotlib.image.AxesImage at 0x7fa75075d3d0>"
      ]
     },
     "metadata": {},
     "execution_count": 36
    },
    {
     "output_type": "display_data",
     "data": {
      "image/png": "[encoded data removed]",
      "text/plain": [
       "<Figure size 432x288 with 1 Axes>"
      ]
     },
     "metadata": {
      "needs_background": "light"
     }
    }
   ],
   "metadata": {}
  },
  {
   "cell_type": "code",
   "execution_count": 37,
   "source": [
    "noise_out = model.forward_noise(test_input, test_target)"
   ],
   "outputs": [],
   "metadata": {}
  },
  {
   "cell_type": "code",
   "execution_count": 54,
   "source": [
    "fig, ax = plt.subplots(1, 3)\n",
    "\n",
    "ax[0].imshow(clean_out['logit'].softmax(-1).detach().numpy())\n",
    "ax[1].imshow(noise_out['logit'].softmax(-1).detach().numpy())\n",
    "ax[2].imshow(oOut.softmax(-1).detach().numpy())\n",
    "\n",
    "# plt.imshow(noise_out['logit'].softmax(-1).detach().numpy())"
   ],
   "outputs": [
    {
     "output_type": "execute_result",
     "data": {
      "text/plain": [
       "<matplotlib.image.AxesImage at 0x7fa7507c4b80>"
      ]
     },
     "metadata": {},
     "execution_count": 54
    },
    {
     "output_type": "display_data",
     "data": {
      "image/png": "[encoded data removed]",
      "text/plain": [
       "<Figure size 432x288 with 3 Axes>"
      ]
     },
     "metadata": {
      "needs_background": "light"
     }
    }
   ],
   "metadata": {}
  },
  {
   "cell_type": "code",
   "execution_count": 53,
   "source": [
    "plt.imshow(oOut.softmax(-1).detach().numpy())"
   ],
   "outputs": [
    {
     "output_type": "execute_result",
     "data": {
      "text/plain": [
       "<matplotlib.image.AxesImage at 0x7fa7501034f0>"
      ]
     },
     "metadata": {},
     "execution_count": 53
    },
    {
     "output_type": "display_data",
     "data": {
      "image/png": "[encoded data removed]",
      "text/plain": [
       "<Figure size 432x288 with 1 Axes>"
      ]
     },
     "metadata": {
      "needs_background": "light"
     }
    }
   ],
   "metadata": {}
  },
  {
   "cell_type": "code",
   "execution_count": 42,
   "source": [],
   "outputs": [
    {
     "output_type": "error",
     "ename": "IndexError",
     "evalue": "too many indices for tensor of dimension 2",
     "traceback": [
      "\u001b[0;31m---------------------------------------------------------------------------\u001b[0m",
      "\u001b[0;31mIndexError\u001b[0m                                Traceback (most recent call last)",
      "\u001b[0;32m<ipython-input-42-d0203901251c>\u001b[0m in \u001b[0;36m<module>\u001b[0;34m\u001b[0m\n\u001b[0;32m----> 1\u001b[0;31m \u001b[0moOut\u001b[0m\u001b[0;34m[\u001b[0m\u001b[0;34m'logit'\u001b[0m\u001b[0;34m]\u001b[0m\u001b[0;34m.\u001b[0m\u001b[0mshape\u001b[0m\u001b[0;34m\u001b[0m\u001b[0;34m\u001b[0m\u001b[0m\n\u001b[0m",
      "\u001b[0;31mIndexError\u001b[0m: too many indices for tensor of dimension 2"
     ]
    }
   ],
   "metadata": {}
  },
  {
   "cell_type": "code",
   "execution_count": 43,
   "source": [
    "oOut"
   ],
   "outputs": [
    {
     "output_type": "execute_result",
     "data": {
      "text/plain": [
       "tensor([[ -1.8296,   1.6764,  -1.7195,  -1.0388,   0.0491,   2.7916],\n",
       "        [ 11.4815,  12.7230,  -7.6770,  -8.9519,  -8.6785,   1.4800],\n",
       "        [  2.6099,  14.3746,  -2.7323,  -8.8380,  -9.7765,   5.1443],\n",
       "        [ -3.1441,   7.4301,  -2.5380,  -0.0564,  -5.0438,   3.4383],\n",
       "        [ -4.6795,   0.1210,   0.3731,   1.4600,   4.2965,  -1.7956],\n",
       "        [  2.5295,  -7.8531,   7.1973,   0.4706,   0.5985,  -2.9122],\n",
       "        [  1.9588,  -5.6569,  -1.8375,   1.9293,   5.6156,  -2.0883],\n",
       "        [ -4.8118,  -2.7645,  -1.3342,   5.8823,   5.3363,  -2.4248],\n",
       "        [  7.1005,   6.5607,  -8.2463,  -2.6730,  -8.3546,   5.8198],\n",
       "        [ -3.8233,   3.1443,  -3.2673,  -2.1838,   0.8429,   5.2085],\n",
       "        [  8.0845,   6.2785,  -6.3844, -11.2007, -12.1910,  15.7805],\n",
       "        [ -5.2448,  -8.1294,  12.9348,   5.1633,   0.3781,  -5.2574],\n",
       "        [  3.6757,   4.2031,  -4.6753,  -7.2367,   0.4505,   3.8205],\n",
       "        [ -2.2204,   2.0621,   2.6850,  -0.5848,  -1.0365,  -0.9096],\n",
       "        [ -0.6542,  -0.8450,   1.7999,  -1.6852,  -1.8559,   3.1394],\n",
       "        [ -1.2881,  -1.1914,   5.4351,   0.1039,  -1.0737,  -1.9058],\n",
       "        [ -0.7479,   0.8642,   0.9316,  -1.4129,   1.1726,  -0.7495],\n",
       "        [ -4.3573,  -4.4008,   2.2692,   3.7438,   5.6834,  -3.1709],\n",
       "        [ -3.5527,  -6.1880,  -1.7376,   9.6748,   3.5364,  -2.0715],\n",
       "        [ -4.7041,  -6.0891,   4.7830,   2.3446,   0.1453,   3.2677],\n",
       "        [  5.9352,   0.7551,  -0.8784,  -3.6502,  -6.7919,   4.7926],\n",
       "        [-10.5224,  -1.5393,   0.1147,   7.2237,   2.5240,   1.8837],\n",
       "        [ 10.1356,  -1.3384,  -2.9363,  -2.9557,  -3.6651,   0.8968],\n",
       "        [  8.0131,  -5.2572,   3.7850,  -2.9763,  -6.5132,   3.1883],\n",
       "        [ -1.5019,   0.8156,  -1.8072,  -1.5888,   4.7521,  -0.7982],\n",
       "        [ -0.3422,  -0.2575,  -0.0971,  -2.3056,   3.6540,  -0.8439],\n",
       "        [  0.5590,  -0.4067,  -0.4595,  -0.3731,   1.5354,  -0.8877],\n",
       "        [ -3.6927,  -7.3211,   0.4813,  13.9397,   3.7832,  -7.6441],\n",
       "        [ -0.2117,  -5.4527,   4.4006,  -0.9658,   4.9977,  -2.6956],\n",
       "        [  2.9149,  -0.3990,   2.7731,  -3.5701,   1.8642,  -3.5975],\n",
       "        [  1.2584,   4.2755,  -2.2961,  -8.5643,  -0.7436,   6.4284],\n",
       "        [ -7.1698,   2.9981,   2.8802,  -4.2296,   7.0107,  -1.4860]],\n",
       "       grad_fn=<AddmmBackward>)"
      ]
     },
     "metadata": {},
     "execution_count": 43
    }
   ],
   "metadata": {}
  },
  {
   "cell_type": "code",
   "execution_count": null,
   "source": [],
   "outputs": [],
   "metadata": {}
  }
 ],
 "metadata": {
  "orig_nbformat": 4,
  "kernelspec": {
   "name": "python3",
   "display_name": "Python 3",
   "language": "python"
  }
 },
 "nbformat": 4,
 "nbformat_minor": 2
}