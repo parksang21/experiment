{
 "cells": [
  {
   "cell_type": "code",
   "execution_count": 1,
   "source": [
    "import torch\n",
    "import torch.nn as nn"
   ],
   "outputs": [],
   "metadata": {}
  },
  {
   "cell_type": "code",
   "execution_count": 2,
   "source": [
    "class MixLayer(nn.Module):\n",
    "    def __init__(self, \n",
    "                 channel_in:  int, \n",
    "                 channel_out: int, \n",
    "                 kernel_size: int, \n",
    "                 stride:      int, \n",
    "                 padding:     int, \n",
    "                 bias:        bool=False, \n",
    "                 num_classes: int=6,\n",
    "                 alpha: float=1.0):\n",
    "        \n",
    "        super(self.__class__, self).__init__()\n",
    "        self.conv = nn.Conv2d(channel_in, channel_out, kernel_size, stride, padding, bias=bias)\n",
    "        self.bn = nn.BatchNorm2d(channel_out)\n",
    "        self.bn_noise = nn.BatchNorm2d(channel_out)\n",
    "        self.activation = nn.LeakyReLU(0.2)\n",
    "        self.num_classes = num_classes\n",
    "        self.register_buffer('buffer', None)\n",
    "        self.alpha = alpha\n",
    "        \n",
    "    def forward(self, x):\n",
    "        x = self.conv(x)\n",
    "        x = self.bn(x)\n",
    "        x = self.activation(x)\n",
    "        return x\n",
    "    \n",
    "    def forward_clean(self, x, class_mask):\n",
    "        x = self.conv(x)\n",
    "        self.cal_class_per_std(x, class_mask)\n",
    "        x = self.bn(x)\n",
    "        x = self.activation(x)\n",
    "        return x\n",
    "        \n",
    "    def add_noise(self, x, newY):\n",
    "        x = self.conv(x)\n",
    "        x = x + self.alpha * torch.normal(mean=0, std=self.buffer[newY]).type_as(x)\n",
    "        x = self.bn_noise(x)\n",
    "        x = self.activation(x)\n",
    "        return x\n",
    "    \n",
    "    def cal_class_per_std(self, x, idxs):\n",
    "        std = []\n",
    "        for i in range(self.num_classes):\n",
    "            x_ = x[idxs[i]].detach().clone()\n",
    "            \n",
    "            std.append(x_.std(0))\n",
    "        self.buffer = torch.stack(std)"
   ],
   "outputs": [],
   "metadata": {}
  },
  {
   "cell_type": "code",
   "execution_count": null,
   "source": [],
   "outputs": [],
   "metadata": {}
  }
 ],
 "metadata": {
  "orig_nbformat": 4,
  "kernelspec": {
   "name": "python3",
   "display_name": "Python 3",
   "language": "python"
  },
  "language_info": {
   "name": "python",
   "version": "3.8.5",
   "mimetype": "text/x-python",
   "codemirror_mode": {
    "name": "ipython",
    "version": 3
   },
   "pygments_lexer": "ipython3",
   "nbconvert_exporter": "python",
   "file_extension": ".py"
  }
 },
 "nbformat": 4,
 "nbformat_minor": 2
}