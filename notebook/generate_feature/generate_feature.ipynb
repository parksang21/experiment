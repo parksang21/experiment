{
 "cells": [
  {
   "cell_type": "code",
   "execution_count": 1,
   "source": [
    "import torch\n",
    "import torch.nn as nn\n",
    "\n",
    "import pickle\n",
    "import torch\n",
    "import torch.nn as nn\n",
    "from torch.utils.data import DataLoader\n",
    "import sys\n",
    "sys.path.append('/workspace/experiment')\n",
    "from data.cifar10 import SplitCifar10, train_transform, val_transform\n",
    "from data.capsule_split import get_splits\n",
    "\n",
    "import os\n",
    "\n",
    "import matplotlib.pyplot as plt\n"
   ],
   "outputs": [],
   "metadata": {}
  },
  {
   "cell_type": "code",
   "execution_count": 32,
   "source": [
    "def weights_init(m):\n",
    "    classname = m.__class__.__name__\n",
    "    if classname.find('Conv') != -1:\n",
    "        m.weight.data.normal_(0.0, 0.05)\n",
    "    elif classname.find('BatchNorm') != -1:\n",
    "        m.weight.data.normal_(1.0, 0.02)\n",
    "        m.bias.data.fill_(0)\n",
    "\n",
    "class classifier32(nn.Module):\n",
    "    def __init__(self, num_classes=2, **kwargs):\n",
    "        super(self.__class__, self).__init__()\n",
    "        self.num_classes = num_classes\n",
    "        self.conv1 = nn.Conv2d(3,       64,     3, 1, 1, bias=False)\n",
    "        self.conv2 = nn.Conv2d(64,      64,     3, 1, 1, bias=False)\n",
    "        self.conv3 = nn.Conv2d(64,     128,     3, 2, 1, bias=False)\n",
    "\n",
    "        self.conv4 = nn.Conv2d(128,    128,     3, 1, 1, bias=False)\n",
    "        self.conv5 = nn.Conv2d(128,    128,     3, 1, 1, bias=False)\n",
    "        self.conv6 = nn.Conv2d(128,    128,     3, 2, 1, bias=False)\n",
    "\n",
    "        self.conv7 = nn.Conv2d(128,    128,     3, 1, 1, bias=False)\n",
    "        self.conv8 = nn.Conv2d(128,    128,     3, 1, 1, bias=False)\n",
    "        self.conv9 = nn.Conv2d(128,    128,     3, 2, 1, bias=False)\n",
    "\n",
    "        self.bn1 = nn.BatchNorm2d(64)\n",
    "        self.bn2 = nn.BatchNorm2d(64)\n",
    "        self.bn3 = nn.BatchNorm2d(128)\n",
    "\n",
    "        self.bn4 = nn.BatchNorm2d(128)\n",
    "        self.bn5 = nn.BatchNorm2d(128)\n",
    "        self.bn6 = nn.BatchNorm2d(128)\n",
    "\n",
    "        self.bn7 = nn.BatchNorm2d(128)\n",
    "        self.bn8 = nn.BatchNorm2d(128)\n",
    "        self.bn9 = nn.BatchNorm2d(128)\n",
    "\n",
    "        self.fc1 = nn.Linear(128, num_classes)\n",
    "        self.dr1 = nn.Dropout2d(0.2)\n",
    "        self.dr2 = nn.Dropout2d(0.2)\n",
    "        self.dr3 = nn.Dropout2d(0.2)\n",
    "        self.avgpool = nn.AdaptiveAvgPool2d((1, 1))\n",
    "        \n",
    "        self.apply(weights_init)\n",
    "        \n",
    "    def block0(self, x):\n",
    "        x = self.dr1(x)\n",
    "        x = self.conv1(x)\n",
    "        x = self.bn1(x)\n",
    "        x = nn.LeakyReLU(0.2)(x)\n",
    "\n",
    "        x = self.conv2(x)\n",
    "        x = self.bn2(x)\n",
    "        x = nn.LeakyReLU(0.2)(x)\n",
    "\n",
    "        x = self.conv3(x)\n",
    "        x = self.bn3(x)\n",
    "        x = nn.LeakyReLU(0.2)(x)\n",
    "        return x\n",
    "    \n",
    "    def block1(self, x):\n",
    "        x = self.dr2(x)\n",
    "        x = self.conv4(x)\n",
    "        x = self.bn4(x)\n",
    "        x = nn.LeakyReLU(0.2)(x)\n",
    "        \n",
    "        x = self.conv5(x)\n",
    "        x = self.bn5(x)\n",
    "        x = nn.LeakyReLU(0.2)(x)\n",
    "        \n",
    "        x = self.conv6(x)\n",
    "        x = self.bn6(x)\n",
    "        x = nn.LeakyReLU(0.2)(x) \n",
    "        return x\n",
    "    \n",
    "    def block2(self, x):\n",
    "        x = self.dr3(x)\n",
    "        x = self.conv7(x)\n",
    "        x = self.bn7(x)\n",
    "        x = nn.LeakyReLU(0.2)(x)\n",
    "        x = self.conv8(x)\n",
    "        x = self.bn8(x)\n",
    "        x = nn.LeakyReLU(0.2)(x)\n",
    "        x = self.conv9(x)\n",
    "        x = self.bn9(x)\n",
    "        x = nn.LeakyReLU(0.2)(x)\n",
    "        return x\n",
    "        \n",
    "    def forward(self, x):\n",
    "        l1 = self.block0(x)\n",
    "        l2 = self.block1(l1)\n",
    "        l3 = self.block2(l2)\n",
    "        \n",
    "        l3 = self.avgpool(l3)\n",
    "        l3 = l3.view(x.shape[0], -1)\n",
    "        y = self.fc1(l3)\n",
    "        \n",
    "        return {\n",
    "            'logit': y,\n",
    "            'l3': l3,\n",
    "            'l2': l2,\n",
    "            'l1': l1,\n",
    "        }\n"
   ],
   "outputs": [],
   "metadata": {}
  },
  {
   "cell_type": "code",
   "execution_count": 27,
   "source": [
    "class FeatureDiscriminator(nn.Module):\n",
    "    def __init__(self):\n",
    "        super(self.__class__, self).__init__()\n",
    "        self.dr = nn.Dropout2d(0.2)\n",
    "        self.conv1 = nn.Conv2d(128,    128,     3, 1, 1, bias=False)\n",
    "        self.conv2 = nn.Conv2d(128,    128,     3, 1, 1, bias=False)\n",
    "        self.conv3 = nn.Conv2d(128,    128,     3, 2, 1, bias=False)\n",
    "        self.bn1 = nn.BatchNorm2d(128)\n",
    "        self.bn2 = nn.BatchNorm2d(128)\n",
    "        self.bn3 = nn.BatchNorm2d(128)\n",
    "        self.avgpool = nn.AdaptiveAvgPool2d((1, 1))\n",
    "        self.fc = nn.Linear(128, 1)\n",
    "    \n",
    "    def forward(self, x):\n",
    "        x = self.dr(x)\n",
    "        x = self.conv1(x)\n",
    "        x = self.bn1(x)\n",
    "        x = nn.LeakyReLU(0.2)(x)\n",
    "        \n",
    "        x = self.conv2(x)\n",
    "        x = self.bn2(x)\n",
    "        x = nn.LeakyReLU(0.2)(x)\n",
    "        \n",
    "        x = self.conv3(x)\n",
    "        x = self.bn3(x)\n",
    "        x = nn.LeakyReLU(0.2)(x)\n",
    "        \n",
    "        x = self.avgpool(x)\n",
    "\n",
    "        logit = self.fc(x.view(x.shape[0], -1))\n",
    "        \n",
    "        return logit\n",
    "        "
   ],
   "outputs": [],
   "metadata": {}
  },
  {
   "cell_type": "code",
   "execution_count": 28,
   "source": [
    "split = get_splits('cifar10', 0)\n",
    "known_data = SplitCifar10('/datasets', train=False, transform=val_transform, split=split['known_classes'])\n",
    "open_data = SplitCifar10('/datasets', train=False, transform=val_transform, split=split['unknown_classes'])\n",
    "known_loader = DataLoader(known_data, batch_size=32, shuffle=False, num_workers=4)\n",
    "open_loader = DataLoader(open_data, batch_size=32, shuffle=False, num_workers=4)\n",
    "# test_input, test_target = next(iter(known_loader))"
   ],
   "outputs": [],
   "metadata": {}
  },
  {
   "cell_type": "code",
   "execution_count": 33,
   "source": [
    "model = classifier32(6)\n",
    "desc = FeatureDiscriminator()"
   ],
   "outputs": [],
   "metadata": {}
  },
  {
   "cell_type": "code",
   "execution_count": 34,
   "source": [
    "test_input ,test_target = next(iter(known_loader))"
   ],
   "outputs": [],
   "metadata": {}
  },
  {
   "cell_type": "code",
   "execution_count": 35,
   "source": [
    "out = model(test_input)"
   ],
   "outputs": [],
   "metadata": {}
  },
  {
   "cell_type": "code",
   "execution_count": 77,
   "source": [
    "y = torch.randint(0, 6, (32,))"
   ],
   "outputs": [],
   "metadata": {}
  },
  {
   "cell_type": "code",
   "execution_count": 79,
   "source": [
    "def cal_index(y):\n",
    "    batch_size = y.size(0)\n",
    "    new_index = torch.randperm(batch_size).type_as(y)\n",
    "    newY = y[new_index]\n",
    "    mask = (newY == y)\n",
    "    while mask.any().item():\n",
    "        newY[mask] = torch.randint(0, 6, (torch.sum(mask),)).type_as(y)\n",
    "        mask = (newY == y)\n",
    "    return newY\n",
    "    "
   ],
   "outputs": [],
   "metadata": {}
  },
  {
   "cell_type": "code",
   "execution_count": 13,
   "source": [
    "a = torch.randint(0, 9, (32,))"
   ],
   "outputs": [],
   "metadata": {}
  },
  {
   "cell_type": "code",
   "execution_count": 14,
   "source": [
    "a > 6"
   ],
   "outputs": [
    {
     "output_type": "execute_result",
     "data": {
      "text/plain": [
       "tensor([False, False, False,  True, False,  True, False, False,  True, False,\n",
       "        False,  True, False,  True, False, False, False, False, False, False,\n",
       "        False,  True, False,  True,  True, False, False, False,  True, False,\n",
       "         True,  True])"
      ]
     },
     "metadata": {},
     "execution_count": 14
    }
   ],
   "metadata": {}
  },
  {
   "cell_type": "code",
   "execution_count": 1,
   "source": [
    "out.keys()"
   ],
   "outputs": [
    {
     "output_type": "error",
     "ename": "NameError",
     "evalue": "name 'out' is not defined",
     "traceback": [
      "\u001b[0;31m---------------------------------------------------------------------------\u001b[0m",
      "\u001b[0;31mNameError\u001b[0m                                 Traceback (most recent call last)",
      "\u001b[0;32m<ipython-input-1-90dc75e95273>\u001b[0m in \u001b[0;36m<module>\u001b[0;34m\u001b[0m\n\u001b[0;32m----> 1\u001b[0;31m \u001b[0mout\u001b[0m\u001b[0;34m.\u001b[0m\u001b[0mkeys\u001b[0m\u001b[0;34m(\u001b[0m\u001b[0;34m)\u001b[0m\u001b[0;34m\u001b[0m\u001b[0;34m\u001b[0m\u001b[0m\n\u001b[0m",
      "\u001b[0;31mNameError\u001b[0m: name 'out' is not defined"
     ]
    }
   ],
   "metadata": {}
  },
  {
   "cell_type": "code",
   "execution_count": null,
   "source": [],
   "outputs": [],
   "metadata": {}
  }
 ],
 "metadata": {
  "orig_nbformat": 4,
  "kernelspec": {
   "name": "python3",
   "display_name": "Python 3",
   "language": "python"
  },
  "language_info": {
   "name": "python",
   "version": "3.8.5",
   "mimetype": "text/x-python",
   "codemirror_mode": {
    "name": "ipython",
    "version": 3
   },
   "pygments_lexer": "ipython3",
   "nbconvert_exporter": "python",
   "file_extension": ".py"
  }
 },
 "nbformat": 4,
 "nbformat_minor": 2
}