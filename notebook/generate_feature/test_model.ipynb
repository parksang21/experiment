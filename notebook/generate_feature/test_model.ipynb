{
 "cells": [
  {
   "cell_type": "code",
   "execution_count": 1,
   "metadata": {},
   "outputs": [],
   "source": [
    "import torch\n",
    "import torch.nn as nn"
   ]
  },
  {
   "cell_type": "code",
   "execution_count": 11,
   "metadata": {},
   "outputs": [],
   "source": [
    "def weights_init(m):\n",
    "    classname = m.__class__.__name__\n",
    "    if classname.find('Conv') != -1:\n",
    "        m.weight.data.normal_(0.0, 0.05)\n",
    "    elif classname.find('BatchNorm') != -1:\n",
    "        m.weight.data.normal_(1.0, 0.02)\n",
    "        m.bias.data.fill_(0)\n",
    "\n",
    "class NoiseEncoder(nn.Module):\n",
    "    def __init__(self, \n",
    "                 channel_in:  int,\n",
    "                 channel_out: int,\n",
    "                 kernel_size: int,\n",
    "                 stride:      int,\n",
    "                 padding:     int,\n",
    "                 bias:        bool=False, \n",
    "                 num_classes: int=6,\n",
    "                 alpha: float=1.0):\n",
    "        \n",
    "        super(self.__class__, self).__init__()\n",
    "        self.conv = nn.Conv2d(channel_in, channel_out, kernel_size, stride, padding, bias=bias)\n",
    "        self.bn = nn.BatchNorm2d(channel_out)\n",
    "        self.bn_noise = nn.BatchNorm2d(channel_out)\n",
    "        self.activation = nn.LeakyReLU(0.2)\n",
    "        self.num_classes = num_classes\n",
    "        self.register_buffer('buffer', None)\n",
    "        self.alpha = alpha\n",
    "        \n",
    "    def forward(self, x):\n",
    "        x = self.conv(x)\n",
    "        x = self.bn(x)\n",
    "        x = self.activation(x)\n",
    "        return x\n",
    "    \n",
    "    def forward_clean(self, x, class_mask):\n",
    "        x = self.conv(x)\n",
    "        self.cal_class_per_std(x, class_mask)\n",
    "        x = self.bn(x)\n",
    "        x = self.activation(x)\n",
    "        return x\n",
    "        \n",
    "    def forward_noise(self, x, newY):\n",
    "        x = self.conv(x)\n",
    "        x = x + self.alpha * torch.normal(mean=0, std=self.buffer[newY]).type_as(x)\n",
    "        x = self.bn_noise(x)\n",
    "        x = self.activation(x)\n",
    "        return x\n",
    "    \n",
    "    def cal_class_per_std(self, x, idxs):\n",
    "        std = []\n",
    "        for i in range(self.num_classes):\n",
    "            x_ = x[idxs[i]].detach().clone()\n",
    "            \n",
    "            std.append(x_.std(0))\n",
    "        self.buffer = torch.stack(std)\n",
    "\n",
    "class classifier32(nn.Module):\n",
    "    def __init__(self, num_classes=2, alpha=1.0, **kwargs):\n",
    "        super(self.__class__, self).__init__()\n",
    "        self.num_classes = num_classes\n",
    "        self.alpha = alpha\n",
    "        # self.conv1 = NoiseEncoder(3,     64,    3, 1, 1, bias=False, num_classes=num_classes)\n",
    "        # self.conv2 = NoiseEncoder(64,    64,    3, 1, 1, bias=False, num_classes=num_classes)\n",
    "        # self.conv3 = NoiseEncoder(64,   128,    3, 2, 1, bias=False, num_classes=num_classes)\n",
    "        self.block1 = nn.Sequential(\n",
    "            nn.Dropout2d(0.2),\n",
    "            NoiseEncoder(3,     64,    3, 1, 1, bias=False, num_classes=num_classes),\n",
    "            NoiseEncoder(64,    64,    3, 1, 1, bias=False, num_classes=num_classes),\n",
    "            NoiseEncoder(64,   128,    3, 2, 1, bias=False, num_classes=num_classes)\n",
    "        )\n",
    "        self.block2 = nn.Sequential(\n",
    "            nn.Dropout2d(0.2),\n",
    "            NoiseEncoder(128,  128,    3, 1, 1, bias=False, num_classes=num_classes),\n",
    "            NoiseEncoder(128,  128,    3, 1, 1, bias=False, num_classes=num_classes),\n",
    "            NoiseEncoder(128,  128,    3, 2, 1, bias=False, num_classes=num_classes)\n",
    "        )\n",
    "        self.block3 = nn.Sequential(\n",
    "            nn.Dropout2d(0.2),\n",
    "            NoiseEncoder(128,  128,    3, 1, 1, bias=False, num_classes=num_classes),\n",
    "            NoiseEncoder(128,  128,    3, 1, 1, bias=False, num_classes=num_classes),\n",
    "            NoiseEncoder(128,  128,    3, 2, 1, bias=False, num_classes=num_classes), \n",
    "        )\n",
    "        \n",
    "        # self.conv4 = NoiseEncoder(128,  128,    3, 1, 1, bias=False, num_classes=num_classes)\n",
    "        # self.conv5 = NoiseEncoder(128,  128,    3, 1, 1, bias=False, num_classes=num_classes)\n",
    "        # self.conv6 = NoiseEncoder(128,  128,    3, 2, 1, bias=False, num_classes=num_classes)\n",
    "        \n",
    "        # self.conv7 = NoiseEncoder(128,  128,    3, 1, 1, bias=False, num_classes=num_classes)\n",
    "        # self.conv8 = NoiseEncoder(128,  128,    3, 1, 1, bias=False, num_classes=num_classes)\n",
    "        # self.conv9 = NoiseEncoder(128,  128,    3, 2, 1, bias=False, num_classes=num_classes)\n",
    "        \n",
    "        self.fc = nn.Linear(128, num_classes * (num_classes - 1))\n",
    "        # self.dr1 = nn.Dropout2d(0.2)\n",
    "        # self.dr2 = nn.Dropout2d(0.2)\n",
    "        # self.dr3 = nn.Dropout2d(0.2)\n",
    "        self.avgpool = nn.AdaptiveAvgPool2d((1, 1))\n",
    "        self.buffer = None\n",
    "        self.position = 0\n",
    "        self.apply(weights_init)\n",
    "\n",
    "    def forward(self, x):\n",
    "        x = self.block1(x)\n",
    "        x = self.block2(x)\n",
    "        x = self.block3(x)\n",
    "        x = self.avgpool(x)\n",
    "        x = x.view(x.size(0), -1)\n",
    "        logit = self.fc(x)\n",
    "        return logit\n",
    " \n",
    "class Generator(nn.Module):\n",
    "    def __init__(self, nz=100, ngf=64):\n",
    "        super(self.__class__, self).__init__()\n",
    "        self.main = nn.Sequential(\n",
    "            # input is Z, going into a convolution\n",
    "            # 100, 64, 3\n",
    "            nn.ConvTranspose2d(nz, ngf * 8, 4, 1, 0, bias=False),\n",
    "            nn.BatchNorm2d(ngf * 8),\n",
    "            nn.ReLU(True),\n",
    "            # state size. (ngf*8) x 4 x 4\n",
    "            nn.ConvTranspose2d(ngf * 8, ngf * 4, 4, 2, 1, bias=False),\n",
    "            nn.BatchNorm2d(ngf * 4),\n",
    "            nn.ReLU(True),\n",
    "            # state size. (ngf*4) x 8 x 8\n",
    "            \n",
    "            nn.Conv2d(ngf * 4, ngf * 2, 3, 1, 1, bias=False),\n",
    "            # nn.BatchNorm2d(ngf * 2),\n",
    "            # nn.ReLU(True),\n",
    "            nn.Sigmoid(),\n",
    "            \n",
    "            \n",
    "            # nn.ConvTranspose2d(ngf * 4, ngf * 2, 4, 2, 1, bias=False),\n",
    "            # nn.BatchNorm2d(ngf * 2),\n",
    "            # nn.ReLU(True),\n",
    "            \n",
    "            \n",
    "            # # state size. (ngf*2) x 16 x 16\n",
    "            # nn.ConvTranspose2d(ngf * 2, nc, 4, 2, 1, bias=False),\n",
    "            # nn.Sigmoid()\n",
    "            # # state size. (nc) x 32 x 32\n",
    "        )\n",
    "        \n",
    "        \n",
    "    def forward(self, x):\n",
    "        output = self.main(x)\n",
    "        return output\n",
    "    \n",
    "class Discriminator(nn.Module):\n",
    "    def __init__(self, in_channel, out_channel):\n",
    "        super(self.__class__, self).__init__()\n",
    "        self.main = nn.Sequential(\n",
    "            nn.Conv2d(in_channel, out_channel, 3, 1, 1, bias=False),\n",
    "            nn.BatchNorm2d(out_channel),\n",
    "            nn.LeakyReLU(0.2),\n",
    "            \n",
    "            nn.Conv2d(in_channel, out_channel, 3, 1, 1, bias=False),\n",
    "            nn.BatchNorm2d(out_channel),\n",
    "            nn.LeakyReLU(0.2),\n",
    "            \n",
    "            nn.Conv2d(in_channel, out_channel, 3, 2, 1, bias=False),\n",
    "            nn.BatchNorm2d(out_channel),\n",
    "            nn.LeakyReLU(0.2),\n",
    "        )\n",
    "        self.avgpool = nn.AdaptiveAvgPool2d((1,1))\n",
    "        self.classifier = nn.Linear(out_channel, 1)\n",
    "        self.activation = nn.Sigmoid()\n",
    "        \n",
    "        \n",
    "    def forward(self, x):\n",
    "        output = self.main(x)\n",
    "        output = self.avgpool(output)\n",
    "        output = output.view(output.size(0), -1)\n",
    "        output = self.classifier(output).flatten()\n",
    "        output = self.activation(output)\n",
    "        return output"
   ]
  },
  {
   "cell_type": "code",
   "execution_count": 4,
   "metadata": {},
   "outputs": [],
   "source": [
    "model = classifier32()"
   ]
  },
  {
   "cell_type": "code",
   "execution_count": 5,
   "metadata": {},
   "outputs": [],
   "source": [
    "x = torch.randn(32, 3, 32, 32)"
   ]
  },
  {
   "cell_type": "code",
   "execution_count": 6,
   "metadata": {},
   "outputs": [],
   "source": [
    "l1 = model.block1(x)"
   ]
  },
  {
   "cell_type": "code",
   "execution_count": 7,
   "metadata": {},
   "outputs": [
    {
     "data": {
      "text/plain": [
       "torch.Size([32, 128, 16, 16])"
      ]
     },
     "execution_count": 7,
     "metadata": {},
     "output_type": "execute_result"
    }
   ],
   "source": [
    "l1.shape"
   ]
  },
  {
   "cell_type": "code",
   "execution_count": 9,
   "metadata": {},
   "outputs": [],
   "source": [
    "l2 = model.block2(l1)"
   ]
  },
  {
   "cell_type": "code",
   "execution_count": 10,
   "metadata": {},
   "outputs": [
    {
     "data": {
      "text/plain": [
       "torch.Size([32, 128, 8, 8])"
      ]
     },
     "execution_count": 10,
     "metadata": {},
     "output_type": "execute_result"
    }
   ],
   "source": [
    "l2.shape"
   ]
  },
  {
   "cell_type": "code",
   "execution_count": 12,
   "metadata": {},
   "outputs": [],
   "source": [
    "G = Generator()"
   ]
  },
  {
   "cell_type": "code",
   "execution_count": 15,
   "metadata": {},
   "outputs": [],
   "source": [
    "noise = torch.FloatTensor(32, 100, 1, 1).normal_(0, 1)"
   ]
  },
  {
   "cell_type": "code",
   "execution_count": 17,
   "metadata": {},
   "outputs": [],
   "source": [
    "feature = G(noise)"
   ]
  },
  {
   "cell_type": "code",
   "execution_count": 18,
   "metadata": {},
   "outputs": [
    {
     "data": {
      "text/plain": [
       "torch.Size([32, 128, 8, 8])"
      ]
     },
     "execution_count": 18,
     "metadata": {},
     "output_type": "execute_result"
    }
   ],
   "source": [
    "feature.shape"
   ]
  },
  {
   "cell_type": "code",
   "execution_count": 39,
   "metadata": {},
   "outputs": [],
   "source": [
    "y = torch.randint(0, 10, (5,))"
   ]
  },
  {
   "cell_type": "code",
   "execution_count": 40,
   "metadata": {},
   "outputs": [],
   "source": [
    "idxs = (y.unsqueeze(1) == torch.arange(11).unsqueeze(0))"
   ]
  },
  {
   "cell_type": "code",
   "execution_count": 49,
   "metadata": {},
   "outputs": [],
   "source": [
    "fake_distribution = torch.zeros(5, 11)"
   ]
  },
  {
   "cell_type": "code",
   "execution_count": 50,
   "metadata": {},
   "outputs": [],
   "source": [
    "fake_distribution[idxs] = 0.8"
   ]
  },
  {
   "cell_type": "code",
   "execution_count": 52,
   "metadata": {},
   "outputs": [],
   "source": [
    "fake_distribution[:, -1] = 1"
   ]
  },
  {
   "cell_type": "code",
   "execution_count": 47,
   "metadata": {},
   "outputs": [],
   "source": [
    "fake_distribution[idxs]= 1"
   ]
  },
  {
   "cell_type": "code",
   "execution_count": 54,
   "metadata": {},
   "outputs": [
    {
     "data": {
      "text/plain": [
       "tensor([[0.0717, 0.0717, 0.0717, 0.0717, 0.1596, 0.0717, 0.0717, 0.0717, 0.0717,\n",
       "         0.0717, 0.1949],\n",
       "        [0.1596, 0.0717, 0.0717, 0.0717, 0.0717, 0.0717, 0.0717, 0.0717, 0.0717,\n",
       "         0.0717, 0.1949],\n",
       "        [0.0717, 0.0717, 0.0717, 0.0717, 0.0717, 0.0717, 0.0717, 0.0717, 0.0717,\n",
       "         0.1596, 0.1949],\n",
       "        [0.0717, 0.0717, 0.0717, 0.0717, 0.0717, 0.1596, 0.0717, 0.0717, 0.0717,\n",
       "         0.0717, 0.1949],\n",
       "        [0.0717, 0.0717, 0.0717, 0.0717, 0.0717, 0.1596, 0.0717, 0.0717, 0.0717,\n",
       "         0.0717, 0.1949]])"
      ]
     },
     "execution_count": 54,
     "metadata": {},
     "output_type": "execute_result"
    }
   ],
   "source": [
    "fake_distribution.softmax(-1)"
   ]
  },
  {
   "cell_type": "code",
   "execution_count": 55,
   "metadata": {},
   "outputs": [],
   "source": [
    "def kldiv(P, Q):\n",
    "    return (P * (P / Q).log()).sum(-1)"
   ]
  },
  {
   "cell_type": "code",
   "execution_count": 56,
   "metadata": {},
   "outputs": [],
   "source": [
    "test_logit = torch.randn(5, 11)"
   ]
  },
  {
   "cell_type": "code",
   "execution_count": 77,
   "metadata": {},
   "outputs": [
    {
     "data": {
      "text/plain": [
       "tensor(0.)"
      ]
     },
     "execution_count": 77,
     "metadata": {},
     "output_type": "execute_result"
    }
   ],
   "source": [
    "kldiv(test_logit.softmax(-1), test_logit.softmax(-1)).mean()"
   ]
  },
  {
   "cell_type": "code",
   "execution_count": 72,
   "metadata": {},
   "outputs": [],
   "source": [
    "kld = nn.KLDivLoss(reduction='batchmean')"
   ]
  },
  {
   "cell_type": "code",
   "execution_count": 76,
   "metadata": {},
   "outputs": [
    {
     "data": {
      "text/plain": [
       "tensor(0.)"
      ]
     },
     "execution_count": 76,
     "metadata": {},
     "output_type": "execute_result"
    }
   ],
   "source": [
    "kld(test_logit.softmax(-1).log(), test_logit.softmax(-1))"
   ]
  },
  {
   "cell_type": "code",
   "execution_count": 75,
   "metadata": {},
   "outputs": [
    {
     "data": {
      "text/plain": [
       "tensor([[0.0717, 0.0717, 0.0717, 0.0717, 0.1596, 0.0717, 0.0717, 0.0717, 0.0717,\n",
       "         0.0717, 0.1949],\n",
       "        [0.1596, 0.0717, 0.0717, 0.0717, 0.0717, 0.0717, 0.0717, 0.0717, 0.0717,\n",
       "         0.0717, 0.1949],\n",
       "        [0.0717, 0.0717, 0.0717, 0.0717, 0.0717, 0.0717, 0.0717, 0.0717, 0.0717,\n",
       "         0.1596, 0.1949],\n",
       "        [0.0717, 0.0717, 0.0717, 0.0717, 0.0717, 0.1596, 0.0717, 0.0717, 0.0717,\n",
       "         0.0717, 0.1949],\n",
       "        [0.0717, 0.0717, 0.0717, 0.0717, 0.0717, 0.1596, 0.0717, 0.0717, 0.0717,\n",
       "         0.0717, 0.1949]])"
      ]
     },
     "execution_count": 75,
     "metadata": {},
     "output_type": "execute_result"
    }
   ],
   "source": [
    "test_logit.softmax(-1)\n",
    "fake_distribution.softmax(-1)"
   ]
  },
  {
   "cell_type": "code",
   "execution_count": null,
   "metadata": {},
   "outputs": [],
   "source": []
  }
 ],
 "metadata": {
  "kernelspec": {
   "display_name": "Python 3",
   "language": "python",
   "name": "python3"
  },
  "language_info": {
   "codemirror_mode": {
    "name": "ipython",
    "version": 3
   },
   "file_extension": ".py",
   "mimetype": "text/x-python",
   "name": "python",
   "nbconvert_exporter": "python",
   "pygments_lexer": "ipython3",
   "version": "3.8.5"
  },
  "orig_nbformat": 4
 },
 "nbformat": 4,
 "nbformat_minor": 2
}
