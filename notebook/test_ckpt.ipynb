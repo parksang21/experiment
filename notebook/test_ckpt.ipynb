{
 "cells": [
  {
   "cell_type": "code",
   "execution_count": 1,
   "source": [
    "import pickle"
   ],
   "outputs": [],
   "metadata": {}
  },
  {
   "cell_type": "code",
   "execution_count": 2,
   "source": [
    "path = '/workspace/experiment/log/noisyFeature/2'"
   ],
   "outputs": [],
   "metadata": {}
  },
  {
   "cell_type": "code",
   "execution_count": 4,
   "source": [
    "import os \n",
    "import torch"
   ],
   "outputs": [],
   "metadata": {}
  },
  {
   "cell_type": "code",
   "execution_count": 6,
   "source": [
    "model = torch.load(path+\"/t.ckpt\")"
   ],
   "outputs": [],
   "metadata": {}
  },
  {
   "cell_type": "code",
   "execution_count": 7,
   "source": [
    "model.keys()"
   ],
   "outputs": [
    {
     "output_type": "execute_result",
     "data": {
      "text/plain": [
       "dict_keys(['epoch', 'global_step', 'pytorch-lightning_version', 'state_dict', 'hparams_name', 'hyper_parameters'])"
      ]
     },
     "metadata": {},
     "execution_count": 7
    }
   ],
   "metadata": {}
  },
  {
   "cell_type": "code",
   "execution_count": 8,
   "source": [
    "model['hparams_name']"
   ],
   "outputs": [
    {
     "output_type": "execute_result",
     "data": {
      "text/plain": [
       "'kwargs'"
      ]
     },
     "metadata": {},
     "execution_count": 8
    }
   ],
   "metadata": {}
  },
  {
   "cell_type": "code",
   "execution_count": 119,
   "source": [
    "import torch.nn as nn\n",
    "\n",
    "conv2 = nn.Conv2d(128, 128, 3, 1, 1)"
   ],
   "outputs": [],
   "metadata": {}
  },
  {
   "cell_type": "code",
   "execution_count": 138,
   "source": [
    "tin = torch.randn(1, 128, 8, 8)"
   ],
   "outputs": [],
   "metadata": {}
  },
  {
   "cell_type": "code",
   "execution_count": 139,
   "source": [
    "conv2(tin).shape"
   ],
   "outputs": [
    {
     "output_type": "execute_result",
     "data": {
      "text/plain": [
       "torch.Size([1, 128, 8, 8])"
      ]
     },
     "metadata": {},
     "execution_count": 139
    }
   ],
   "metadata": {}
  },
  {
   "cell_type": "code",
   "execution_count": 5,
   "source": [
    "jj"
   ],
   "outputs": [
    {
     "output_type": "execute_result",
     "data": {
      "text/plain": [
       "tensor([[False, False, False, False, False, False, False,  True, False, False,\n",
       "         False, False],\n",
       "        [False, False, False, False, False, False, False, False,  True,  True,\n",
       "          True,  True],\n",
       "        [False, False,  True, False, False,  True, False, False, False, False,\n",
       "         False, False],\n",
       "        [False,  True, False,  True,  True, False, False, False, False, False,\n",
       "         False, False],\n",
       "        [False, False, False, False, False, False, False, False, False, False,\n",
       "         False, False],\n",
       "        [ True, False, False, False, False, False,  True, False, False, False,\n",
       "         False, False]])"
      ]
     },
     "metadata": {},
     "execution_count": 5
    }
   ],
   "metadata": {}
  },
  {
   "cell_type": "code",
   "execution_count": 6,
   "source": [
    "a = dict()"
   ],
   "outputs": [],
   "metadata": {}
  },
  {
   "cell_type": "code",
   "execution_count": 7,
   "source": [
    "a['0'] = 0"
   ],
   "outputs": [],
   "metadata": {}
  },
  {
   "cell_type": "code",
   "execution_count": 8,
   "source": [
    "a"
   ],
   "outputs": [
    {
     "output_type": "execute_result",
     "data": {
      "text/plain": [
       "{'0': 0}"
      ]
     },
     "metadata": {},
     "execution_count": 8
    }
   ],
   "metadata": {}
  },
  {
   "cell_type": "code",
   "execution_count": 9,
   "source": [
    "a = torch.randn(128, 8, 8)\n",
    "b = torch.randn(128, 8, 8)"
   ],
   "outputs": [],
   "metadata": {}
  },
  {
   "cell_type": "code",
   "execution_count": 10,
   "source": [
    "torch.cat([a, b], dim=1).shape"
   ],
   "outputs": [
    {
     "output_type": "execute_result",
     "data": {
      "text/plain": [
       "torch.Size([128, 16, 8])"
      ]
     },
     "metadata": {},
     "execution_count": 10
    }
   ],
   "metadata": {}
  },
  {
   "cell_type": "code",
   "execution_count": 11,
   "source": [
    "import numpy as np"
   ],
   "outputs": [],
   "metadata": {}
  },
  {
   "cell_type": "code",
   "execution_count": 13,
   "source": [
    "a = torch.zeros(32, 128, 8, 8)\n",
    "b = torch.ones(32, 128, 8, 8)\n",
    "channel_select = torch.randint(0, 128, (int(128 * 0.5), ))\n",
    "newY = torch.randperm(32)"
   ],
   "outputs": [],
   "metadata": {}
  },
  {
   "cell_type": "code",
   "execution_count": 23,
   "source": [
    "a[:, channel_select, :, :] = b[newY][:, channel_select, :, :]"
   ],
   "outputs": [],
   "metadata": {}
  },
  {
   "cell_type": "code",
   "execution_count": 2,
   "source": [
    "import torch\n",
    "Y_MAT = torch.Tensor(\n",
    "    [ [0, 6, 7, 8, 9, 10],\n",
    "      [6, 1, 12, 13, 14, 15],\n",
    "      [7, 12, 2, 16, 17, 18],\n",
    "      [8, 13, 16, 3, 19, 20],\n",
    "      [9, 14, 17, 19, 4, 21],\n",
    "      [10, 15, 18, 20, 21, 5]\n",
    "    ]\n",
    ")"
   ],
   "outputs": [],
   "metadata": {}
  },
  {
   "cell_type": "code",
   "execution_count": 3,
   "source": [
    "Y_MAT"
   ],
   "outputs": [
    {
     "output_type": "execute_result",
     "data": {
      "text/plain": [
       "tensor([[ 0.,  7.,  8.,  9., 10., 11.],\n",
       "        [ 7.,  1., 12., 13., 14., 15.],\n",
       "        [ 8., 12.,  2., 16., 17., 18.],\n",
       "        [ 9., 13., 16.,  3., 19., 20.],\n",
       "        [10., 14., 17., 19.,  4., 21.],\n",
       "        [11., 15., 18., 20., 21.,  5.]])"
      ]
     },
     "metadata": {},
     "execution_count": 3
    }
   ],
   "metadata": {}
  },
  {
   "cell_type": "code",
   "execution_count": 38,
   "source": [
    "a = [ list(range(6)) for _ in range(6)]\n",
    "start = 6\n",
    "for i in range(6):\n",
    "    for j in range(i, 6):\n",
    "        if i == j:\n",
    "            a[i][j] = i\n",
    "        else:\n",
    "            a[i][j] = start\n",
    "            a[j][i] = start\n",
    "            start += 1"
   ],
   "outputs": [],
   "metadata": {}
  },
  {
   "cell_type": "code",
   "execution_count": 41,
   "source": [
    "ta = torch.Tensor(a)"
   ],
   "outputs": [],
   "metadata": {}
  },
  {
   "cell_type": "code",
   "execution_count": 43,
   "source": [
    "ta[y, y2].shape"
   ],
   "outputs": [
    {
     "output_type": "execute_result",
     "data": {
      "text/plain": [
       "tensor([11., 14.,  1., 20.,  0., 11., 18.,  8.,  6., 11.,  3., 20.])"
      ]
     },
     "metadata": {},
     "execution_count": 43
    }
   ],
   "metadata": {}
  },
  {
   "cell_type": "code",
   "execution_count": 26,
   "source": [
    "index"
   ],
   "outputs": [
    {
     "output_type": "execute_result",
     "data": {
      "text/plain": [
       "tensor([[1],\n",
       "        [2]])"
      ]
     },
     "metadata": {},
     "execution_count": 26
    }
   ],
   "metadata": {}
  },
  {
   "cell_type": "code",
   "execution_count": 27,
   "source": [
    "a[index]"
   ],
   "outputs": [
    {
     "output_type": "execute_result",
     "data": {
      "text/plain": [
       "tensor([[[ 6.,  1., 11., 12., 13., 14.]],\n",
       "\n",
       "        [[ 7., 11.,  2., 15., 16., 17.]]])"
      ]
     },
     "metadata": {},
     "execution_count": 27
    }
   ],
   "metadata": {}
  },
  {
   "cell_type": "code",
   "execution_count": 28,
   "source": [
    "a[1, 2]"
   ],
   "outputs": [
    {
     "output_type": "execute_result",
     "data": {
      "text/plain": [
       "tensor(11.)"
      ]
     },
     "metadata": {},
     "execution_count": 28
    }
   ],
   "metadata": {}
  },
  {
   "cell_type": "code",
   "execution_count": 29,
   "source": [
    "y = torch.randint(0, 6, (12, ))\n",
    "y2 = torch.randint(0, 6, (12, ))"
   ],
   "outputs": [],
   "metadata": {}
  },
  {
   "cell_type": "code",
   "execution_count": 30,
   "source": [
    "a[y, y2]"
   ],
   "outputs": [
    {
     "output_type": "execute_result",
     "data": {
      "text/plain": [
       "tensor([11., 14.,  1., 20.,  0., 11., 18.,  8.,  6., 11.,  3., 20.])"
      ]
     },
     "metadata": {},
     "execution_count": 30
    }
   ],
   "metadata": {}
  },
  {
   "cell_type": "code",
   "execution_count": 31,
   "source": [
    "y"
   ],
   "outputs": [
    {
     "output_type": "execute_result",
     "data": {
      "text/plain": [
       "tensor([1, 1, 1, 5, 0, 1, 4, 3, 1, 1, 3, 5])"
      ]
     },
     "metadata": {},
     "execution_count": 31
    }
   ],
   "metadata": {}
  },
  {
   "cell_type": "code",
   "execution_count": 32,
   "source": [
    "y2"
   ],
   "outputs": [
    {
     "output_type": "execute_result",
     "data": {
      "text/plain": [
       "tensor([2, 5, 1, 4, 0, 2, 3, 0, 0, 2, 3, 4])"
      ]
     },
     "metadata": {},
     "execution_count": 32
    }
   ],
   "metadata": {}
  },
  {
   "cell_type": "code",
   "execution_count": 37,
   "source": [
    "a[5, 4]"
   ],
   "outputs": [
    {
     "output_type": "execute_result",
     "data": {
      "text/plain": [
       "tensor(20.)"
      ]
     },
     "metadata": {},
     "execution_count": 37
    }
   ],
   "metadata": {}
  },
  {
   "cell_type": "code",
   "execution_count": 44,
   "source": [
    "import random"
   ],
   "outputs": [],
   "metadata": {}
  },
  {
   "cell_type": "code",
   "execution_count": 80,
   "source": [
    "random.randint(0, 3)"
   ],
   "outputs": [
    {
     "output_type": "execute_result",
     "data": {
      "text/plain": [
       "1"
      ]
     },
     "metadata": {},
     "execution_count": 80
    }
   ],
   "metadata": {}
  },
  {
   "cell_type": "code",
   "execution_count": 83,
   "source": [
    "5 % 4"
   ],
   "outputs": [
    {
     "output_type": "execute_result",
     "data": {
      "text/plain": [
       "1"
      ]
     },
     "metadata": {},
     "execution_count": 83
    }
   ],
   "metadata": {}
  },
  {
   "cell_type": "code",
   "execution_count": 84,
   "source": [
    "4 % 4"
   ],
   "outputs": [
    {
     "output_type": "execute_result",
     "data": {
      "text/plain": [
       "0"
      ]
     },
     "metadata": {},
     "execution_count": 84
    }
   ],
   "metadata": {}
  },
  {
   "cell_type": "code",
   "execution_count": 85,
   "source": [
    "for i in range(10):\n",
    "    print(i % 4)"
   ],
   "outputs": [
    {
     "output_type": "stream",
     "name": "stdout",
     "text": [
      "0\n",
      "1\n",
      "2\n",
      "3\n",
      "0\n",
      "1\n",
      "2\n",
      "3\n",
      "0\n",
      "1\n"
     ]
    }
   ],
   "metadata": {}
  },
  {
   "cell_type": "code",
   "execution_count": 94,
   "source": [
    "a= torch.randn(10)"
   ],
   "outputs": [],
   "metadata": {}
  },
  {
   "cell_type": "code",
   "execution_count": 95,
   "source": [
    "a[0]"
   ],
   "outputs": [
    {
     "output_type": "execute_result",
     "data": {
      "text/plain": [
       "tensor(0.8426)"
      ]
     },
     "metadata": {},
     "execution_count": 95
    }
   ],
   "metadata": {}
  },
  {
   "cell_type": "code",
   "execution_count": 96,
   "source": [
    "b = a.clone()"
   ],
   "outputs": [],
   "metadata": {}
  },
  {
   "cell_type": "code",
   "execution_count": 97,
   "source": [
    "b[0] = 999"
   ],
   "outputs": [],
   "metadata": {}
  },
  {
   "cell_type": "code",
   "execution_count": 98,
   "source": [
    "a"
   ],
   "outputs": [
    {
     "output_type": "execute_result",
     "data": {
      "text/plain": [
       "tensor([ 0.8426, -0.9498, -0.2587,  0.8316, -0.3961,  0.0968, -1.3733, -0.8227,\n",
       "         0.2687,  0.2610])"
      ]
     },
     "metadata": {},
     "execution_count": 98
    }
   ],
   "metadata": {}
  },
  {
   "cell_type": "code",
   "execution_count": 99,
   "source": [
    "a  + b"
   ],
   "outputs": [
    {
     "output_type": "execute_result",
     "data": {
      "text/plain": [
       "tensor([ 9.9984e+02, -1.8997e+00, -5.1736e-01,  1.6632e+00, -7.9223e-01,\n",
       "         1.9366e-01, -2.7467e+00, -1.6455e+00,  5.3741e-01,  5.2200e-01])"
      ]
     },
     "metadata": {},
     "execution_count": 99
    }
   ],
   "metadata": {}
  },
  {
   "cell_type": "code",
   "execution_count": 100,
   "source": [
    "b"
   ],
   "outputs": [
    {
     "output_type": "execute_result",
     "data": {
      "text/plain": [
       "tensor([ 9.9900e+02, -9.4984e-01, -2.5868e-01,  8.3160e-01, -3.9611e-01,\n",
       "         9.6832e-02, -1.3733e+00, -8.2274e-01,  2.6870e-01,  2.6100e-01])"
      ]
     },
     "metadata": {},
     "execution_count": 100
    }
   ],
   "metadata": {}
  },
  {
   "cell_type": "code",
   "execution_count": 101,
   "source": [
    "weight_path = '/workspace/experiment/result/checkpoints/s0.ckpt'"
   ],
   "outputs": [],
   "metadata": {}
  },
  {
   "cell_type": "code",
   "execution_count": 102,
   "source": [
    "std = torch.load(weight_path)"
   ],
   "outputs": [],
   "metadata": {}
  },
  {
   "cell_type": "code",
   "execution_count": 103,
   "source": [
    "std.keys()"
   ],
   "outputs": [
    {
     "output_type": "execute_result",
     "data": {
      "text/plain": [
       "dict_keys(['epoch', 'global_step', 'pytorch-lightning_version', 'state_dict', 'hparams_name', 'hyper_parameters'])"
      ]
     },
     "metadata": {},
     "execution_count": 103
    }
   ],
   "metadata": {}
  },
  {
   "cell_type": "code",
   "execution_count": 169,
   "source": [
    "def weights_init(m):\n",
    "    classname = m.__class__.__name__\n",
    "    if classname.find('Conv') != -1:\n",
    "        m.weight.data.normal_(0.0, 0.05)\n",
    "    elif classname.find('BatchNorm') != -1:\n",
    "        m.weight.data.normal_(1.0, 0.02)\n",
    "        m.bias.data.fill_(0)\n",
    "        \n",
    "class NoiseEncoder(nn.Module):\n",
    "    def __init__(self, \n",
    "                 channel_in:  int,\n",
    "                 channel_out: int,\n",
    "                 kernel_size: int,\n",
    "                 stride:      int,\n",
    "                 padding:     int,\n",
    "                 bias:        bool=False, \n",
    "                 num_classes: int=6,\n",
    "                 alpha: float=1.0):\n",
    "        \n",
    "        super(self.__class__, self).__init__()\n",
    "        self.conv = nn.Conv2d(channel_in, channel_out, kernel_size, stride, padding, bias=bias)\n",
    "        self.bn = nn.BatchNorm2d(channel_out)\n",
    "        self.bn_noise = nn.BatchNorm2d(channel_out)\n",
    "        self.activation = nn.LeakyReLU(0.2)\n",
    "        self.num_classes = num_classes\n",
    "        self.register_buffer('buffer', None)\n",
    "        self.alpha = alpha\n",
    "        \n",
    "    def forward(self, x):\n",
    "        x = self.conv(x)\n",
    "        x = self.bn(x)\n",
    "        x = self.activation(x)\n",
    "        return x\n",
    "    \n",
    "    def forward_clean(self, x, class_mask):\n",
    "        x = self.conv(x)\n",
    "        self.cal_class_per_std(x, class_mask)\n",
    "        x = self.bn(x)\n",
    "        x = self.activation(x)\n",
    "        return x\n",
    "        \n",
    "    def forward_noise(self, x, newY):\n",
    "        x = self.conv(x)\n",
    "        x = x + self.alpha * torch.normal(mean=0, std=self.buffer[newY]).type_as(x)\n",
    "        x = self.bn_noise(x)\n",
    "        x = self.activation(x)\n",
    "        return x\n",
    "    \n",
    "    def cal_class_per_std(self, x, idxs):\n",
    "        std = []\n",
    "        for i in range(self.num_classes):\n",
    "            x_ = x[idxs[i]].detach().clone()\n",
    "            \n",
    "            std.append(x_.std(0))\n",
    "        self.buffer = torch.stack(std)\n",
    "\n",
    "class classifier32(nn.Module):\n",
    "    def __init__(self, num_classes=2, alpha=1.0, **kwargs):\n",
    "        super(self.__class__, self).__init__()\n",
    "        self.num_classes = num_classes\n",
    "        self.alpha = alpha\n",
    "        self.conv1 = NoiseEncoder(3,     64,    3, 1, 1, bias=False, num_classes=num_classes)\n",
    "        self.conv2 = NoiseEncoder(64,    64,    3, 1, 1, bias=False, num_classes=num_classes)\n",
    "        self.conv3 = NoiseEncoder(64,   128,    3, 2, 1, bias=False, num_classes=num_classes)\n",
    "        \n",
    "        self.conv4 = NoiseEncoder(128,  128,    3, 1, 1, bias=False, num_classes=num_classes)\n",
    "        self.conv5 = NoiseEncoder(128,  128,    3, 1, 1, bias=False, num_classes=num_classes)\n",
    "        self.conv6 = NoiseEncoder(128,  128,    3, 2, 1, bias=False, num_classes=num_classes)\n",
    "        \n",
    "        self.conv7 = NoiseEncoder(128,  128,    3, 1, 1, bias=False, num_classes=num_classes)\n",
    "        self.conv8 = NoiseEncoder(128,  128,    3, 1, 1, bias=False, num_classes=num_classes)\n",
    "        self.conv9 = NoiseEncoder(128,  128,    3, 2, 1, bias=False, num_classes=num_classes)\n",
    "        \n",
    "        self.fc = nn.Linear(128, num_classes * (num_classes - 1))\n",
    "        self.dr1 = nn.Dropout2d(0.2)\n",
    "        self.dr2 = nn.Dropout2d(0.2)\n",
    "        self.dr3 = nn.Dropout2d(0.2)\n",
    "        self.avgpool = nn.AdaptiveAvgPool2d((1, 1))\n",
    "        self.buffer = None\n",
    "        self.position = 0\n",
    "        self.apply(weights_init)\n",
    "        \n",
    "    def block0(self, x):\n",
    "        x = self.dr1(x)\n",
    "        x = self.conv1(x)\n",
    "        x = self.conv2(x)\n",
    "        x = self.conv3(x)\n",
    "        return x\n",
    "    \n",
    "    def block1(self, x):\n",
    "        x = self.dr2(x)\n",
    "        x = self.conv4(x)\n",
    "        x = self.conv5(x)\n",
    "        x = self.conv6(x)\n",
    "\n",
    "        return x\n",
    "    \n",
    "    def block2(self, x):\n",
    "        x = self.dr3(x)\n",
    "        x = self.conv7(x)\n",
    "        x = self.conv8(x)\n",
    "        x = self.conv9(x)\n",
    "        \n",
    "        x = self.avgpool(x)\n",
    "        x = x.view(x.shape[0], -1)\n",
    "        \n",
    "        return x\n",
    "        \n",
    "    def forward(self, x):\n",
    "        l1 = self.block0(x)\n",
    "        l2 = self.block1(l1)\n",
    "        l3 = self.block2(l2)\n",
    "        \n",
    "        y = self.fc(l3)\n",
    "        \n",
    "        return {\n",
    "            'logit': y,\n",
    "            'l3': l3,\n",
    "            'l2': l2,\n",
    "            'l1': l1,\n",
    "        }\n",
    "        \n",
    "    def cal_mean_std(self, x, eps=1e-5):\n",
    "        size = x.size()\n",
    "        assert (len(size) == 4)\n",
    "        B, C = size[:2]\n",
    "        variance = x.view(B, C, -1).var(dim=2) + eps\n",
    "        std = variance.sqrt().view(B, C, 1, 1)\n",
    "        mean = x.view(B, C, -1).mean(dim=2).view(B, C, 1, 1)\n",
    "        \n",
    "        return mean, std\n",
    "    \n",
    "    def mix_(self, x1, x2):\n",
    "        size = x1.size()\n",
    "        x1_mean, x1_std = self.cal_mean_std(x1)\n",
    "        x2_mean, x2_std = self.cal_mean_std(x2)\n",
    "        \n",
    "        x1_normalize = (x1 - x1_mean.expand(size)) / x1_std.expand(size)\n",
    "        \n",
    "        return x1_normalize * x1_std.expand(size) + x2_mean.expand(size)\n",
    "    \n",
    "    def normalize(self, x, mean, std):\n",
    "        size = x.size()\n",
    "        return (x - mean.expand(size)) / std.expand(size)\n",
    "    \n",
    "    def unnormalize(self, x, mean, std):\n",
    "        size = x.size()\n",
    "        return x * std.expand(size) + mean.expand(size)\n",
    "    \n",
    "    def cal_std(self, x, y, mean, std):\n",
    "        stds = []\n",
    "        normalize = (x - mean.expand(x.size())) / std.expand(x.size())\n",
    "        idxs = y.unsqueeze(0) == torch.arange(self.num_classes).unsqueeze(1).type_as(y)\n",
    "        for i in range(self.num_classes):\n",
    "            x_ = normalize[idxs[i]].detach().clone()\n",
    "            \n",
    "            stds.append(x_.std(0))\n",
    "            \n",
    "        self.buffer = torch.stack(stds)\n",
    "\n",
    "    def forward_norm_std(self, x, y):\n",
    "        newY = self.cal_index(y)\n",
    "        x = self.block0(x)\n",
    "        x = self.block1(x)\n",
    "        \n",
    "        mean, std = self.cal_mean_std(x)\n",
    "        self.cal_std(x, y, mean, std)\n",
    "        x_norm = self.normalize(x, mean, std)\n",
    "        x_new = x_norm + self.alpha * torch.normal(mean=0, std=torch.ones_like(x_norm)).type_as(x)\n",
    "        x_new = self.unnormalize(x_new, mean, std)\n",
    "        \n",
    "        clean_x = self.block2(x)\n",
    "        clean_logit = self.fc(clean_x)\n",
    "        \n",
    "        noise_x = self.block2(x_new)\n",
    "        noise_logit = self.fc(noise_x)\n",
    "        \n",
    "        return {\n",
    "            'clean_x': x,\n",
    "            'clean_logit': clean_logit,\n",
    "            'noise_x': x_new,\n",
    "            'noise_logit': noise_logit,\n",
    "            'mean': mean,\n",
    "            'std': std\n",
    "        }\n",
    "        \n",
    "    def forward_l2(self, x):\n",
    "        l3 = self.block2(x)\n",
    "        \n",
    "        logit = self.fc(l3)\n",
    "        return {\n",
    "            'logit': logit,\n",
    "            'l3': l3\n",
    "        }\n",
    "    \n",
    "    def forward_mix(self, x, y):\n",
    "        newY = self.cal_index(y)\n",
    "\n",
    "        l1 = self.block0(x)\n",
    "        l2 = self.block1(l1)\n",
    "        \n",
    "        m_l2 = self.mix_(l2, l2[newY])\n",
    "        l3 = self.block2(l2)\n",
    "        m_l3 = self.block2(m_l2)\n",
    "        \n",
    "        logit = self.fc(l3)\n",
    "        m_logit = self.fc(m_l3)\n",
    "        \n",
    "        return {\n",
    "            'logit': logit,\n",
    "            'l2': l2,\n",
    "            'm_l2': m_l2,\n",
    "            'm_logit': m_logit,\n",
    "            'newY': newY\n",
    "        }\n",
    "    \n",
    "    def cal_index(self, y):\n",
    "        batch_size = y.size(0)\n",
    "        new_index = torch.randperm(batch_size).type_as(y)\n",
    "        newY = y[new_index]\n",
    "        mask = (newY == y)\n",
    "        while mask.any().item():\n",
    "            newY[mask] = torch.randint(0, self.num_classes, (torch.sum(mask),)).type_as(y)\n",
    "            mask = (newY == y)\n",
    "        return newY\n",
    "    \n",
    "    def channel_swap(self, x, y):\n",
    "        # newY = self.cal_index(y)\n",
    "        B, C, H, W = x.size()\n",
    "        channel_select = torch.randint(0, C, (int(C * self.alpha),)).type_as(y)\n",
    "        # x[:, channel_select, :, :] = x[y][:,channel_select, :, :].clone().detach()\n",
    "        x[:, channel_select, :, :] = x[y][:,channel_select, :, :]\n",
    "        return x\n",
    "    \n",
    "    def get_position(self):\n",
    "        self.position = (self.position + 1) % 4\n",
    "        return self.position\n",
    "    \n",
    "    def channel_cutmix(self, x, y):\n",
    "        B, C, H, W = y.size()\n",
    "        win_size = int(H / 2)\n",
    "        pos = self.get_position()\n",
    "        \n",
    "    def forward_swap(self, x, y):\n",
    "        l1 = self.block0(x)\n",
    "        \n",
    "        l2 = self.block1(l1)\n",
    "        # m_l2 = self.block1(m_l1)\n",
    "        \n",
    "        # newY = self.cal_index(y)\n",
    "        newY = torch.randperm(x.size(0))\n",
    "        m_l2 = self.channel_swap(l2.clone(), newY)\n",
    "        \n",
    "        l3 = self.block2(l2)\n",
    "        m_l3 = self.block2(m_l2)\n",
    "        \n",
    "        logit = self.fc(l3)\n",
    "        m_logit = self.fc(m_l3)\n",
    "        \n",
    "        return {\n",
    "            'clean_logit': logit,\n",
    "            # 'l2': l2,\n",
    "            'noise_logit': m_logit,\n",
    "            'm_l3': m_l3,\n",
    "            'newY': y[newY]\n",
    "        }\n",
    "\n",
    "class Generator(nn.Module):\n",
    "    def __init__(self, in_channel, out_channel):\n",
    "        super(self.__class__, self).__init__()\n",
    "        self.main = nn.Sequential(\n",
    "            nn.Conv2d(in_channel, out_channel, 3, 1, 1, bias=False),\n",
    "            nn.BatchNorm2d(out_channel),\n",
    "            nn.LeakyReLU(0.2),\n",
    "            \n",
    "            nn.Conv2d(out_channel, out_channel, 3, 1, 1, bias=False),\n",
    "            nn.BatchNorm2d(out_channel),\n",
    "            nn.LeakyReLU(0.2),\n",
    "            \n",
    "            nn.Conv2d(in_channel, out_channel, 3, 1, 1, bias=False),\n",
    "            nn.BatchNorm2d(out_channel),\n",
    "            nn.LeakyReLU(0.2),\n",
    "            )\n",
    "        \n",
    "    def forward(self, x):\n",
    "        output = self.main(x)\n",
    "        return output\n",
    "    \n",
    "class Discriminator(nn.Module):\n",
    "    def __init__(self, in_channel, out_channel):\n",
    "        super(self.__class__, self).__init__()\n",
    "        self.main = nn.Sequential(\n",
    "            nn.Conv2d(in_channel, out_channel, 3, 1, 1, bias=False),\n",
    "            nn.BatchNorm2d(out_channel),\n",
    "            nn.LeakyReLU(0.2),\n",
    "            \n",
    "            nn.Conv2d(in_channel, out_channel, 3, 1, 1, bias=False),\n",
    "            nn.BatchNorm2d(out_channel),\n",
    "            nn.LeakyReLU(0.2),\n",
    "            \n",
    "            nn.Conv2d(in_channel, out_channel, 3, 2, 1, bias=False),\n",
    "            nn.BatchNorm2d(out_channel),\n",
    "            nn.LeakyReLU(0.2),\n",
    "        )\n",
    "        self.avgpool = nn.AdaptiveAvgPool2d((1,1))\n",
    "        self.classifier = nn.Sequential(\n",
    "            nn.Linear(out_channel, 1),\n",
    "            nn.Sigmoid()\n",
    "        )\n",
    "        \n",
    "    def forward(self, x):\n",
    "        output = self.main(x)\n",
    "        output = self.avgpool(output)\n",
    "        output = output.view(output.size(0), -1)\n",
    "        output = self.classifier(output).flatten()\n",
    "        return output"
   ],
   "outputs": [],
   "metadata": {}
  },
  {
   "cell_type": "code",
   "execution_count": 170,
   "source": [
    "model = classifier32()"
   ],
   "outputs": [],
   "metadata": {}
  },
  {
   "cell_type": "code",
   "execution_count": 171,
   "source": [
    "G = Generator(128, 128)\n",
    "D = Discriminator(128, 128)"
   ],
   "outputs": [],
   "metadata": {}
  },
  {
   "cell_type": "code",
   "execution_count": 172,
   "source": [
    "t_input = torch.randn(5, 3, 32, 32)"
   ],
   "outputs": [],
   "metadata": {}
  },
  {
   "cell_type": "code",
   "execution_count": 173,
   "source": [
    "a = model(t_input)"
   ],
   "outputs": [],
   "metadata": {}
  },
  {
   "cell_type": "code",
   "execution_count": 174,
   "source": [
    "a['l2'].shape"
   ],
   "outputs": [
    {
     "output_type": "execute_result",
     "data": {
      "text/plain": [
       "torch.Size([5, 128, 8, 8])"
      ]
     },
     "metadata": {},
     "execution_count": 174
    }
   ],
   "metadata": {}
  },
  {
   "cell_type": "code",
   "execution_count": 175,
   "source": [
    "d_main = D.main(a['l2'])"
   ],
   "outputs": [],
   "metadata": {}
  },
  {
   "cell_type": "code",
   "execution_count": 176,
   "source": [
    "d_avg = D.avgpool(d_main)"
   ],
   "outputs": [],
   "metadata": {}
  },
  {
   "cell_type": "code",
   "execution_count": 177,
   "source": [
    "d_avg.shape"
   ],
   "outputs": [
    {
     "output_type": "execute_result",
     "data": {
      "text/plain": [
       "torch.Size([5, 128, 1, 1])"
      ]
     },
     "metadata": {},
     "execution_count": 177
    }
   ],
   "metadata": {}
  },
  {
   "cell_type": "code",
   "execution_count": 178,
   "source": [
    "d_out = D(a['l2'])"
   ],
   "outputs": [],
   "metadata": {}
  },
  {
   "cell_type": "code",
   "execution_count": 192,
   "source": [
    "l1 = model.block0(t_input)\n",
    "l2 = model.block1(l1)"
   ],
   "outputs": [],
   "metadata": {}
  },
  {
   "cell_type": "code",
   "execution_count": 193,
   "source": [
    "d_out = D(l2)"
   ],
   "outputs": [],
   "metadata": {}
  },
  {
   "cell_type": "code",
   "execution_count": 194,
   "source": [
    "d_out"
   ],
   "outputs": [
    {
     "output_type": "execute_result",
     "data": {
      "text/plain": [
       "tensor([0.5086, 0.4544, 0.5423, 0.5288, 0.5932], grad_fn=<ViewBackward>)"
      ]
     },
     "metadata": {},
     "execution_count": 194
    }
   ],
   "metadata": {}
  },
  {
   "cell_type": "code",
   "execution_count": 190,
   "source": [
    "bce = nn.BCELoss()"
   ],
   "outputs": [],
   "metadata": {}
  },
  {
   "cell_type": "code",
   "execution_count": 191,
   "source": [
    "bce(d_out, torch.ones_like(d_out))"
   ],
   "outputs": [
    {
     "output_type": "execute_result",
     "data": {
      "text/plain": [
       "tensor(0.6444, grad_fn=<BinaryCrossEntropyBackward>)"
      ]
     },
     "metadata": {},
     "execution_count": 191
    }
   ],
   "metadata": {}
  },
  {
   "cell_type": "code",
   "execution_count": 196,
   "source": [
    "d_out"
   ],
   "outputs": [
    {
     "output_type": "execute_result",
     "data": {
      "text/plain": [
       "tensor([0.5086, 0.4544, 0.5423, 0.5288, 0.5932], grad_fn=<ViewBackward>)"
      ]
     },
     "metadata": {},
     "execution_count": 196
    }
   ],
   "metadata": {}
  },
  {
   "cell_type": "code",
   "execution_count": null,
   "source": [],
   "outputs": [],
   "metadata": {}
  }
 ],
 "metadata": {
  "orig_nbformat": 4,
  "kernelspec": {
   "name": "python3",
   "display_name": "Python 3",
   "language": "python"
  },
  "language_info": {
   "name": "python",
   "version": "3.8.5",
   "mimetype": "text/x-python",
   "codemirror_mode": {
    "name": "ipython",
    "version": 3
   },
   "pygments_lexer": "ipython3",
   "nbconvert_exporter": "python",
   "file_extension": ".py"
  }
 },
 "nbformat": 4,
 "nbformat_minor": 2
}